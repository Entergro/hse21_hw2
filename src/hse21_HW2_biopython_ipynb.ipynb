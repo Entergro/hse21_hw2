{
  "nbformat": 4,
  "nbformat_minor": 0,
  "metadata": {
    "colab": {
      "name": "Копия блокнота \"hse21_HW2_biopython.ipynb\"",
      "provenance": [],
      "collapsed_sections": [
        "ed-CWFY3cZK0",
        "D2UNiwEyet54",
        "Pr5GctSQxlsQ"
      ]
    },
    "kernelspec": {
      "name": "python3",
      "display_name": "Python 3"
    },
    "language_info": {
      "name": "python"
    }
  },
  "cells": [
    {
      "cell_type": "markdown",
      "source": [
        "# Скачиваем данные и устанавливаем программы"
      ],
      "metadata": {
        "id": "WJ71oQTxShEj"
      }
    },
    {
      "cell_type": "code",
      "source": [
        "!wget https://raw.githubusercontent.com/Entergro/hse21_hw2/main/data/gms2.lst"
      ],
      "metadata": {
        "id": "fWSU9pxNTOSR",
        "colab": {
          "base_uri": "https://localhost:8080/"
        },
        "outputId": "2095b026-d59b-4f85-9686-40e135cd05ec"
      },
      "execution_count": 4,
      "outputs": [
        {
          "output_type": "stream",
          "name": "stdout",
          "text": [
            "--2021-12-19 00:32:35--  https://raw.githubusercontent.com/Entergro/hse21_hw2/main/data/gms2.lst\n",
            "Resolving raw.githubusercontent.com (raw.githubusercontent.com)... 185.199.109.133, 185.199.110.133, 185.199.111.133, ...\n",
            "Connecting to raw.githubusercontent.com (raw.githubusercontent.com)|185.199.109.133|:443... connected.\n",
            "HTTP request sent, awaiting response... 200 OK\n",
            "Length: 220107 (215K) [text/plain]\n",
            "Saving to: ‘gms2.lst’\n",
            "\n",
            "\r          gms2.lst   0%[                    ]       0  --.-KB/s               \rgms2.lst 100%[===================>] 214.95K  --.-KB/s    in 0.03s   \n",
            "\n",
            "2021-12-19 00:32:35 (7.52 MB/s) - ‘gms2.lst’ saved [220107/220107]\n",
            "\n"
          ]
        }
      ]
    },
    {
      "cell_type": "code",
      "source": [
        "!wget https://raw.githubusercontent.com/Entergro/hse21_hw1/main/data/Poil_scaffold.fa"
      ],
      "metadata": {
        "id": "yWoD0myNTVi8",
        "colab": {
          "base_uri": "https://localhost:8080/"
        },
        "outputId": "1f5068b4-1d19-4482-ca38-d7f4d961ff1b"
      },
      "execution_count": 6,
      "outputs": [
        {
          "output_type": "stream",
          "name": "stdout",
          "text": [
            "--2021-12-19 00:36:39--  https://raw.githubusercontent.com/Entergro/hse21_hw1/main/data/Poil_scaffold.fa\n",
            "Resolving raw.githubusercontent.com (raw.githubusercontent.com)... 185.199.108.133, 185.199.109.133, 185.199.110.133, ...\n",
            "Connecting to raw.githubusercontent.com (raw.githubusercontent.com)|185.199.108.133|:443... connected.\n",
            "HTTP request sent, awaiting response... 200 OK\n",
            "Length: 3926271 (3.7M) [text/plain]\n",
            "Saving to: ‘Poil_scaffold.fa’\n",
            "\n",
            "Poil_scaffold.fa    100%[===================>]   3.74M  --.-KB/s    in 0.07s   \n",
            "\n",
            "2021-12-19 00:36:40 (51.8 MB/s) - ‘Poil_scaffold.fa’ saved [3926271/3926271]\n",
            "\n"
          ]
        }
      ]
    },
    {
      "cell_type": "code",
      "source": [
        "!wget https://raw.githubusercontent.com/Entergro/hse21_hw2/main/data/proteins.fasta"
      ],
      "metadata": {
        "id": "FkuulZekTbh9",
        "colab": {
          "base_uri": "https://localhost:8080/"
        },
        "outputId": "ef42b103-6222-451a-a902-86f2bbab9293"
      },
      "execution_count": 5,
      "outputs": [
        {
          "output_type": "stream",
          "name": "stdout",
          "text": [
            "--2021-12-19 00:35:03--  https://raw.githubusercontent.com/Entergro/hse21_hw2/main/data/proteins.fasta\n",
            "Resolving raw.githubusercontent.com (raw.githubusercontent.com)... 185.199.108.133, 185.199.109.133, 185.199.110.133, ...\n",
            "Connecting to raw.githubusercontent.com (raw.githubusercontent.com)|185.199.108.133|:443... connected.\n",
            "HTTP request sent, awaiting response... 200 OK\n",
            "Length: 1426939 (1.4M) [text/plain]\n",
            "Saving to: ‘proteins.fasta’\n",
            "\n",
            "proteins.fasta 100%[===================>]   1.36M  --.-KB/s    in 0.06s   \n",
            "\n",
            "2021-12-19 00:35:03 (24.7 MB/s) - ‘proteins.fasta’ saved [1426939/1426939]\n",
            "\n"
          ]
        }
      ]
    },
    {
      "cell_type": "code",
      "source": [
        "!wget https://raw.githubusercontent.com/Entergro/hse21_hw2/main/data/scaffolds.hits_from_MIL_1.txt"
      ],
      "metadata": {
        "id": "wljcApdJTjGr",
        "colab": {
          "base_uri": "https://localhost:8080/"
        },
        "outputId": "16f5512a-589a-41cd-87bb-86f90a7ee701"
      },
      "execution_count": 7,
      "outputs": [
        {
          "output_type": "stream",
          "name": "stdout",
          "text": [
            "--2021-12-19 00:37:23--  https://raw.githubusercontent.com/Entergro/hse21_hw2/main/data/scaffolds.hits_from_MIL_1.txt\n",
            "Resolving raw.githubusercontent.com (raw.githubusercontent.com)... 185.199.108.133, 185.199.109.133, 185.199.110.133, ...\n",
            "Connecting to raw.githubusercontent.com (raw.githubusercontent.com)|185.199.108.133|:443... connected.\n",
            "HTTP request sent, awaiting response... 200 OK\n",
            "Length: 834075 (815K) [text/plain]\n",
            "Saving to: ‘scaffolds.hits_from_MIL_1.txt’\n",
            "\n",
            "scaffolds.hits_from 100%[===================>] 814.53K  --.-KB/s    in 0.05s   \n",
            "\n",
            "2021-12-19 00:37:23 (15.9 MB/s) - ‘scaffolds.hits_from_MIL_1.txt’ saved [834075/834075]\n",
            "\n"
          ]
        }
      ]
    },
    {
      "cell_type": "code",
      "source": [
        "!wget https://raw.githubusercontent.com/Entergro/hse21_hw2/main/data/scaffolds.hits_from_SwissProt.txt"
      ],
      "metadata": {
        "id": "7ZGyVtAfTopz",
        "colab": {
          "base_uri": "https://localhost:8080/"
        },
        "outputId": "7064635d-53d2-4dc9-ddd2-4081c07fe913"
      },
      "execution_count": 8,
      "outputs": [
        {
          "output_type": "stream",
          "name": "stdout",
          "text": [
            "--2021-12-19 00:37:58--  https://raw.githubusercontent.com/Entergro/hse21_hw2/main/data/scaffolds.hits_from_SwissProt.txt\n",
            "Resolving raw.githubusercontent.com (raw.githubusercontent.com)... 185.199.111.133, 185.199.109.133, 185.199.108.133, ...\n",
            "Connecting to raw.githubusercontent.com (raw.githubusercontent.com)|185.199.111.133|:443... connected.\n",
            "HTTP request sent, awaiting response... 200 OK\n",
            "Length: 65267 (64K) [text/plain]\n",
            "Saving to: ‘scaffolds.hits_from_SwissProt.txt’\n",
            "\n",
            "\r          scaffolds   0%[                    ]       0  --.-KB/s               \rscaffolds.hits_from 100%[===================>]  63.74K  --.-KB/s    in 0.01s   \n",
            "\n",
            "2021-12-19 00:37:58 (5.54 MB/s) - ‘scaffolds.hits_from_SwissProt.txt’ saved [65267/65267]\n",
            "\n"
          ]
        }
      ]
    },
    {
      "cell_type": "markdown",
      "metadata": {
        "id": "EkEflOHmCHHW"
      },
      "source": [
        "## Скачиваем геном близкородственной бактерии T.oleivorans"
      ]
    },
    {
      "cell_type": "markdown",
      "metadata": {
        "id": "noBYTW1bRH9O"
      },
      "source": [
        "Геном, последовательности генов (нт) и белков (протеом) для бактерии Thalassolituus oleivorans MIL-1\n",
        "https://www.ncbi.nlm.nih.gov/nuccore/HF680312"
      ]
    },
    {
      "cell_type": "code",
      "source": [
        "!sh -c \"$(curl -fsSL ftp://ftp.ncbi.nlm.nih.gov/entrez/entrezdirect/install-edirect.sh)\""
      ],
      "metadata": {
        "id": "bqv3FR5efmk6",
        "colab": {
          "base_uri": "https://localhost:8080/"
        },
        "outputId": "5dbd562b-7b9e-440d-972f-5c4242347e20"
      },
      "execution_count": 9,
      "outputs": [
        {
          "output_type": "stream",
          "name": "stdout",
          "text": [
            "\n",
            "Entrez Direct has been successfully downloaded and installed.\n",
            "\n",
            "In order to complete the configuration process, please execute the following:\n",
            "\n",
            "  echo \"export PATH=\\${PATH}:/root/edirect\" >> ${HOME}/.bashrc\n",
            "\n",
            "or manually edit the PATH variable assignment in your .bashrc file.\n",
            "\n",
            "Would you like to do that automatically now? [y/N]\n",
            "^C\n"
          ]
        }
      ]
    },
    {
      "cell_type": "code",
      "source": [
        "!$HOME/edirect/efetch -db nuccore -id HF680312 -format gb  >  T_oleivorans_MIL_1.gbk"
      ],
      "metadata": {
        "id": "4O3-rUx4fvbw"
      },
      "execution_count": 10,
      "outputs": []
    },
    {
      "cell_type": "code",
      "metadata": {
        "id": "j2uga-mieSB6",
        "colab": {
          "base_uri": "https://localhost:8080/"
        },
        "outputId": "b5614577-3d1a-448e-fed2-6b1784e6d8a8"
      },
      "source": [
        "!pip install biopython"
      ],
      "execution_count": 11,
      "outputs": [
        {
          "output_type": "stream",
          "name": "stdout",
          "text": [
            "Collecting biopython\n",
            "  Downloading biopython-1.79-cp37-cp37m-manylinux_2_5_x86_64.manylinux1_x86_64.whl (2.3 MB)\n",
            "\u001b[K     |████████████████████████████████| 2.3 MB 5.6 MB/s \n",
            "\u001b[?25hRequirement already satisfied: numpy in /usr/local/lib/python3.7/dist-packages (from biopython) (1.19.5)\n",
            "Installing collected packages: biopython\n",
            "Successfully installed biopython-1.79\n"
          ]
        }
      ]
    },
    {
      "cell_type": "markdown",
      "source": [
        "## Аннотация генома (пример)"
      ],
      "metadata": {
        "id": "EJIw_JDLUgt5"
      }
    },
    {
      "cell_type": "markdown",
      "source": [
        "Biopython Tutorial: http://biopython.org/DIST/docs/tutorial/Tutorial.html"
      ],
      "metadata": {
        "id": "qhxlclhoYhBh"
      }
    },
    {
      "cell_type": "code",
      "source": [
        "!head -n 20 gms2.lst"
      ],
      "metadata": {
        "id": "G33GF-iGU9Ka",
        "colab": {
          "base_uri": "https://localhost:8080/"
        },
        "outputId": "f43d265f-6aa5-4618-e9f1-36466488fce5"
      },
      "execution_count": 57,
      "outputs": [
        {
          "output_type": "stream",
          "name": "stdout",
          "text": [
            "# GeneMark.hmm-2 LST format\n",
            "# GeneMark.hmm-2 prokaryotic version: 1.25_lic\n",
            "# File with sequence: Poil_scaffold.fa\n",
            "# File with native parameters: GMS2.mod\n",
            "# Native species name and build: unspecified GeneMarkS-2-1.14_1.25_lic\n",
            "# File with MetaGeneMark parameters: /content/gms2_linux_64/mgm_11.mod\n",
            "# translation table: 11\n",
            "# output date start: Sun Dec 17 23:56:13 2021\n",
            "\n",
            "# sequence-region 1 2226\n",
            "SequenceID: scaffold1_len2226_cov127\n",
            "     1   -    590    997     408 atypical AGGGGG 5 1\n",
            "     2   -    1069    2004     936 atypical AGGAGT 4 1\n",
            "     3   -    2113   >2226     114 native\n",
            "# scaffold1_len2226_cov127\ttotal_logodd\t74.8409\taverage_length\t486\taverage_density\t1.35\n",
            "\n",
            "# sequence-region 1 670\n",
            "SequenceID: scaffold2_len670_cov219_single\n",
            "     4   +   <2    649     648 atypical\n",
            "# scaffold2_len670_cov219_single\ttotal_logodd\t29.243\taverage_length\t648\taverage_density\t1.49\n"
          ]
        }
      ]
    },
    {
      "cell_type": "markdown",
      "source": [
        "Для примера проаннотируем два коротких скаффолда (scaffold3_cov275 и scaffold9_cov256):\n",
        "\n"
      ],
      "metadata": {
        "id": "OKK4GsdqZPZ6"
      }
    },
    {
      "cell_type": "code",
      "metadata": {
        "id": "1hegJvwMIiPe"
      },
      "source": [
        "from Bio import SeqIO\n",
        "\n",
        "data = {}\n",
        "\n",
        "for record in SeqIO.parse(\"/content/Poil_scaffold.fa\", \"fasta\"):\n",
        "    record.annotations['molecule_type'] = 'DNA'\n",
        "    data[record.id] = record"
      ],
      "execution_count": 86,
      "outputs": []
    },
    {
      "cell_type": "code",
      "source": [
        "print(len(data))"
      ],
      "metadata": {
        "colab": {
          "base_uri": "https://localhost:8080/"
        },
        "id": "pyz9Wdt5a3nT",
        "outputId": "dcaef63f-8c94-4236-8d38-cfe7381ca4c8"
      },
      "execution_count": 87,
      "outputs": [
        {
          "output_type": "stream",
          "name": "stdout",
          "text": [
            "72\n"
          ]
        }
      ]
    },
    {
      "cell_type": "code",
      "source": [
        "data['scaffold1_len2226_cov127']"
      ],
      "metadata": {
        "colab": {
          "base_uri": "https://localhost:8080/"
        },
        "id": "LtvgdrhGv8Jp",
        "outputId": "01d94899-0230-4741-9cb2-c5319b57df78"
      },
      "execution_count": 88,
      "outputs": [
        {
          "output_type": "execute_result",
          "data": {
            "text/plain": [
              "SeqRecord(seq=Seq('AATAATTTGAAGACAGTTTAGAGGGATTTCGGCGTGGGTTTTAGGTGGGGTTGT...GAA'), id='scaffold1_len2226_cov127', name='scaffold1_len2226_cov127', description='scaffold1_len2226_cov127', dbxrefs=[])"
            ]
          },
          "metadata": {},
          "execution_count": 88
        }
      ]
    },
    {
      "cell_type": "code",
      "source": [
        "SeqIO.write(data.values(), \"GENOME.gbk\", \"genbank\")"
      ],
      "metadata": {
        "colab": {
          "base_uri": "https://localhost:8080/"
        },
        "id": "Mzhukmuia91_",
        "outputId": "f8a2aed4-2f04-41bd-a581-93a1b0593033"
      },
      "execution_count": 89,
      "outputs": [
        {
          "output_type": "stream",
          "name": "stderr",
          "text": [
            "/usr/local/lib/python3.7/dist-packages/Bio/SeqIO/InsdcIO.py:730: BiopythonWarning: Increasing length of locus line to allow long name. This will result in fields that are not in usual positions.\n",
            "  BiopythonWarning,\n"
          ]
        },
        {
          "output_type": "execute_result",
          "data": {
            "text/plain": [
              "72"
            ]
          },
          "metadata": {},
          "execution_count": 89
        }
      ]
    },
    {
      "cell_type": "markdown",
      "source": [
        "## Добавляем координаты генов"
      ],
      "metadata": {
        "id": "nuikKeO1bL7N"
      }
    },
    {
      "cell_type": "markdown",
      "source": [
        "```\n",
        "SequenceID: scaffold3_cov275\n",
        "  3535   -    30    1001     972 atypical GTCGAG 5 1\n",
        "  3536   -    1350    2192     843 native AAAGTG 7 1\n",
        "  3537   +    2304    2507     204 native GCGGAG 7 1\n",
        "  3538   -    2554    2751     198 native TAAGTA 7 1\n",
        "  3539   +    2855    3265     411 native TCGGTC 6 1\n",
        "```"
      ],
      "metadata": {
        "id": "lR-FjFgRba09"
      }
    },
    {
      "cell_type": "code",
      "metadata": {
        "id": "4cXKMhtmYZ9t"
      },
      "source": [
        "from os import sched_get_priority_max\n",
        "from pprint import pprint\n",
        "from Bio.SeqFeature import SeqFeature, FeatureLocation\n",
        "\n",
        "all_scaff = []\n",
        "idx = ''\n",
        "flag = 1\n",
        "with open('gms2.lst') as f:\n",
        "    for s in f.read().splitlines()[10:]:\n",
        "        row = s.split()\n",
        "        if len(row) == 0:\n",
        "            continue\n",
        "        if 'SequenceID:' in row:\n",
        "            if flag == 0:\n",
        "                data[idx].features = all_scaff\n",
        "                all_scaff = []\n",
        "                \n",
        "            idx = row[1]\n",
        "            flag = 0\n",
        "        elif row[0] != '#':\n",
        "            tag = row[0]\n",
        "            strand = row[1]\n",
        "            start = row[2].replace('<','')\n",
        "            stop = row[3].replace('>','')\n",
        "            if strand == '-':\n",
        "                strand = -1\n",
        "            else:\n",
        "                strand = 1\n",
        "            sc = SeqFeature(FeatureLocation(int(start), int(stop), strand=strand), type=\"CDS\")\n",
        "            sc.qualifiers['locus_tag'] = [tag]\n",
        "            all_scaff += [sc]"
      ],
      "execution_count": 90,
      "outputs": []
    },
    {
      "cell_type": "code",
      "source": [
        "SeqIO.write(data.values(), \"GENOME.gbk\", \"genbank\")"
      ],
      "metadata": {
        "id": "bLUbuampdB-i",
        "colab": {
          "base_uri": "https://localhost:8080/"
        },
        "outputId": "c1640418-4ba1-4d0b-a141-003140d72ad6"
      },
      "execution_count": 91,
      "outputs": [
        {
          "output_type": "stream",
          "name": "stderr",
          "text": [
            "/usr/local/lib/python3.7/dist-packages/Bio/SeqIO/InsdcIO.py:730: BiopythonWarning: Increasing length of locus line to allow long name. This will result in fields that are not in usual positions.\n",
            "  BiopythonWarning,\n"
          ]
        },
        {
          "output_type": "execute_result",
          "data": {
            "text/plain": [
              "72"
            ]
          },
          "metadata": {},
          "execution_count": 91
        }
      ]
    },
    {
      "cell_type": "markdown",
      "source": [
        "## Добавляем трансляции генов (аминокислотные посл-ти)"
      ],
      "metadata": {
        "id": "ed-CWFY3cZK0"
      }
    },
    {
      "cell_type": "code",
      "source": [
        "for record_protein in SeqIO.parse(\"proteins.fasta\", \"fasta\"):\n",
        "  for record in data.values():\n",
        "    for f in record.features:\n",
        "      if record_protein.id == f.qualifiers['locus_tag'][0]:\n",
        "        f.qualifiers['translation'] = [record_protein.seq]"
      ],
      "metadata": {
        "id": "lmT1wp0Bcnlq"
      },
      "execution_count": 92,
      "outputs": []
    },
    {
      "cell_type": "code",
      "source": [
        "SeqIO.write(data.values(), \"GENOME.gbk\", \"genbank\")"
      ],
      "metadata": {
        "id": "O7npTyvav-yI",
        "colab": {
          "base_uri": "https://localhost:8080/"
        },
        "outputId": "615fb976-d2fe-46de-d2ca-92c1650be1c0"
      },
      "execution_count": 93,
      "outputs": [
        {
          "output_type": "stream",
          "name": "stderr",
          "text": [
            "/usr/local/lib/python3.7/dist-packages/Bio/SeqIO/InsdcIO.py:730: BiopythonWarning: Increasing length of locus line to allow long name. This will result in fields that are not in usual positions.\n",
            "  BiopythonWarning,\n"
          ]
        },
        {
          "output_type": "execute_result",
          "data": {
            "text/plain": [
              "72"
            ]
          },
          "metadata": {},
          "execution_count": 93
        }
      ]
    },
    {
      "cell_type": "markdown",
      "source": [
        "## Добавляем функции белков (из бактерии MIL-1)"
      ],
      "metadata": {
        "id": "D2UNiwEyet54"
      }
    },
    {
      "cell_type": "markdown",
      "source": [
        "Часть файла scaffolds.hits_from_MIL_1.txt:\n",
        "```\n",
        "3535\tlcl|HF680312.1_prot_CCU72326.1_1877\t99.054\t317\t3\t0\t3\t319\t1\t317\t0.0\t644\n",
        "3535\tlcl|HF680312.1_prot_CCU72392.1_1943\t34.583\t240\t138\t5\t85\t307\t956\t1193\t2.33e-30\t118\n",
        "3535\tlcl|HF680312.1_prot_CCU72759.1_2310\t27.667\t300\t188\t8\t8\t302\t709\t984\t1.02e-24\t101\n",
        "3535\tlcl|HF680312.1_prot_CCU70543.1_94\t42.857\t126\t71\t1\t79\t204\t798\t922\t5.63e-24\t99.4\n",
        "3535\tlcl|HF680312.1_prot_CCU70690.1_241\t26.140\t329\t205\t10\t2\t303\t591\t908\t6.26e-23\t96.7\n",
        "3535\tlcl|HF680312.1_prot_CCU74013.1_3564\t38.462\t130\t76\t3\t91\t219\t685\t811\t4.96e-20\t87.8\n",
        "3535\tlcl|HF680312.1_prot_CCU71475.1_1026\t36.522\t115\t71\t2\t86\t200\t555\t667\t2.19e-16\t76.6\n",
        "3535\tlcl|HF680312.1_prot_CCU71362.1_913\t24.535\t269\t187\t3\t52\t306\t633\t899\t2.61e-14\t70.5\n",
        "3535\tlcl|HF680312.1_prot_CCU70724.1_275\t30.534\t131\t81\t3\t78\t205\t1983\t2106\t6.54e-13\t66.2\n",
        "3535\tlcl|HF680312.1_prot_CCU70719.1_270\t26.087\t115\t83\t1\t90\t204\t15\t127\t9.14e-12\t58.5\n",
        "3535\tlcl|HF680312.1_prot_CCU72006.1_1557\t35.652\t115\t68\t3\t87\t200\t421\t530\t1.06e-11\t62.0\n",
        "3535\tlcl|HF680312.1_prot_CCU72513.1_2064\t33.628\t113\t72\t1\t91\t200\t766\t878\t1.22e-11\t62.4\n",
        "3536\tlcl|HF680312.1_prot_CCU72327.1_1878\t100.000\t280\t0\t0\t1\t280\t1\t280\t0.0\t570\n",
        "3536\tlcl|HF680312.1_prot_CCU72858.1_2409\t27.437\t277\t181\t4\t10\t272\t1\t271\t1.82e-26\t101\n",
        "3537\tlcl|HF680312.1_prot_CCU72328.1_1879\t100.000\t67\t0\t0\t1\t67\t1\t67\t9.75e-44\t132\n",
        "```"
      ],
      "metadata": {
        "id": "tCFpL_GLfDzJ"
      }
    },
    {
      "cell_type": "code",
      "source": [
        "with open('scaffolds.hits_from_MIL_1.txt') as file:\n",
        "    file_text = file.read().splitlines()\n",
        "\n",
        "    for record in data.values():\n",
        "        for f in record.features:\n",
        "            f.qualifiers['note'] = ''\n",
        "            for line in file_text:\n",
        "                if f.qualifiers['locus_tag'][0] == line.split('\\t')[0]:\n",
        "                    f.qualifiers['note'] += line.split('_')[2] + ' '\n",
        "\n"
      ],
      "metadata": {
        "id": "L8dFyRiakGm2"
      },
      "execution_count": 94,
      "outputs": []
    },
    {
      "cell_type": "code",
      "source": [
        "pprint(data['scaffold1_len2226_cov127'].features[0])"
      ],
      "metadata": {
        "id": "QKxmGI7gkgKz",
        "colab": {
          "base_uri": "https://localhost:8080/"
        },
        "outputId": "6ca3882e-88fe-4136-89f9-3b533cd679fb"
      },
      "execution_count": 95,
      "outputs": [
        {
          "output_type": "stream",
          "name": "stdout",
          "text": [
            "SeqFeature(FeatureLocation(ExactPosition(590), ExactPosition(997), strand=-1), type='CDS')\n"
          ]
        }
      ]
    },
    {
      "cell_type": "code",
      "source": [
        "mil_1_genome = SeqIO.read(\"/content/T_oleivorans_MIL_1.gbk\", \"genbank\")"
      ],
      "metadata": {
        "id": "MxKSgTvihLIY"
      },
      "execution_count": 96,
      "outputs": []
    },
    {
      "cell_type": "code",
      "metadata": {
        "id": "4EDCGDdmZt8O"
      },
      "source": [
        "for  mil_f in mil_1_genome.features:\n",
        "    if 'protein_id' not in mil_f.qualifiers:\n",
        "        continue\n",
        "    for record in data.values():\n",
        "        for f in record.features:\n",
        "            if 'note' in f.qualifiers:\n",
        "                if mil_f.qualifiers['protein_id'][0] in f.qualifiers['note']:\n",
        "                    f.qualifiers['product'] = mil_f.qualifiers['product']"
      ],
      "execution_count": 97,
      "outputs": []
    },
    {
      "cell_type": "code",
      "source": [
        "pprint(data['scaffold1_len2226_cov127'].features[0].qualifiers)"
      ],
      "metadata": {
        "id": "eK-3-vRCxHEP",
        "colab": {
          "base_uri": "https://localhost:8080/"
        },
        "outputId": "69fc17a8-7f30-484b-e9b0-4499393dc552"
      },
      "execution_count": 98,
      "outputs": [
        {
          "output_type": "stream",
          "name": "stdout",
          "text": [
            "OrderedDict([('locus_tag', ['1']),\n",
            "             ('translation',\n",
            "              [Seq('METLRGVAQKVRFSTVVSGGENHTSTSHLAVFEVNRTPVELSMPESIFLENGDE...SSS')]),\n",
            "             ('note', '')])\n"
          ]
        }
      ]
    },
    {
      "cell_type": "code",
      "source": [
        "SeqIO.write(data.values(), \"GENOME.gbk\", \"genbank\")"
      ],
      "metadata": {
        "id": "KHcrRw4HxTzk",
        "colab": {
          "base_uri": "https://localhost:8080/"
        },
        "outputId": "dd2a2946-71b7-461f-f83b-b913f91f7b0b"
      },
      "execution_count": 99,
      "outputs": [
        {
          "output_type": "stream",
          "name": "stderr",
          "text": [
            "/usr/local/lib/python3.7/dist-packages/Bio/SeqIO/InsdcIO.py:730: BiopythonWarning: Increasing length of locus line to allow long name. This will result in fields that are not in usual positions.\n",
            "  BiopythonWarning,\n"
          ]
        },
        {
          "output_type": "execute_result",
          "data": {
            "text/plain": [
              "72"
            ]
          },
          "metadata": {},
          "execution_count": 99
        }
      ]
    },
    {
      "cell_type": "markdown",
      "source": [
        "## Добавляем функции белков (из БД SwissProt)"
      ],
      "metadata": {
        "id": "Pr5GctSQxlsQ"
      }
    },
    {
      "cell_type": "markdown",
      "source": [
        "Читаем информацию из файла scaffolds.hits_from_SwissProt.txt"
      ],
      "metadata": {
        "id": "xLafv2r8xo6P"
      }
    },
    {
      "cell_type": "code",
      "source": [
        "!head scaffolds.hits_from_SwissProt.txt"
      ],
      "metadata": {
        "id": "_bHOMEqhxvDd",
        "colab": {
          "base_uri": "https://localhost:8080/"
        },
        "outputId": "a0afc909-2426-47e6-f60d-a850883f3994"
      },
      "execution_count": 100,
      "outputs": [
        {
          "output_type": "stream",
          "name": "stdout",
          "text": [
            "162\tsp|P06990|T1SB_ECOLX\t35.794\t447\t271\t5\t4\t436\t19\t463\t4.31e-71\t238\n",
            "162\tsp|P06187|T1S_SALTY\t43.478\t322\t162\t5\t131\t436\t141\t458\t6.51e-69\t232\n",
            "162\tsp|P05719|T1SK_ECOLI\t48.013\t302\t140\t8\t145\t436\t159\t453\t5.28e-65\t221\n",
            "162\tsp|P07990|T1S_SALPO\t46.333\t300\t143\t9\t145\t434\t159\t450\t4.11e-57\t200\n",
            "162\tsp|Q58926|Y1531_METJA\t38.542\t192\t116\t1\t5\t194\t233\t424\t7.01e-33\t133\n",
            "162\tsp|P06991|T1SD_ECOLX\t54.331\t127\t58\t0\t310\t436\t307\t433\t1.89e-30\t127\n",
            "162\tsp|P06991|T1SD_ECOLX\t45.455\t99\t54\t0\t105\t203\t90\t188\t2.28e-17\t88.2\n",
            "165\tsp|Q9V1E9|KTHY_PYRAB\t39.073\t151\t76\t5\t3\t138\t4\t153\t3.10e-15\t73.9\n",
            "165\tsp|B6YSZ4|KTHY_THEON\t34.177\t158\t75\t4\t4\t138\t2\t153\t4.36e-12\t65.5\n",
            "165\tsp|C6A0S1|KTHY_THESM\t36.076\t158\t78\t7\t1\t138\t1\t155\t1.16e-11\t64.3\n"
          ]
        }
      ]
    },
    {
      "cell_type": "markdown",
      "source": [
        "product = 'Similar to SwissProt protein Y1178_METJA (E-value = 2.95e-28)'"
      ],
      "metadata": {
        "id": "UykENPFgyIQu"
      }
    },
    {
      "cell_type": "markdown",
      "source": [
        "Бонус*\n",
        "\n",
        "Получить функции белков SwissProt из файла: https://ftp.uniprot.org/pub/databases/uniprot/current_release/knowledgebase/complete/uniprot_sprot.dat.gz"
      ],
      "metadata": {
        "id": "HWWUeHCdyAdb"
      }
    },
    {
      "cell_type": "code",
      "source": [
        "!wget https://ftp.uniprot.org/pub/databases/uniprot/current_release/knowledgebase/complete/uniprot_sprot.dat.gz"
      ],
      "metadata": {
        "colab": {
          "base_uri": "https://localhost:8080/"
        },
        "id": "tTRJ0KfnWIdt",
        "outputId": "697fb1be-89e7-49c6-9adf-41f29aea9c1f"
      },
      "execution_count": null,
      "outputs": [
        {
          "output_type": "stream",
          "name": "stdout",
          "text": [
            "--2021-12-16 08:25:46--  https://ftp.uniprot.org/pub/databases/uniprot/current_release/knowledgebase/complete/uniprot_sprot.dat.gz\n",
            "Resolving ftp.uniprot.org (ftp.uniprot.org)... 128.175.240.195\n",
            "Connecting to ftp.uniprot.org (ftp.uniprot.org)|128.175.240.195|:443... connected.\n",
            "HTTP request sent, awaiting response... 200 OK\n",
            "Length: 625798251 (597M) [application/x-gzip]\n",
            "Saving to: ‘uniprot_sprot.dat.gz’\n",
            "\n",
            "uniprot_sprot.dat.g 100%[===================>] 596.81M   189MB/s    in 3.2s    \n",
            "\n",
            "2021-12-16 08:25:49 (185 MB/s) - ‘uniprot_sprot.dat.gz’ saved [625798251/625798251]\n",
            "\n"
          ]
        }
      ]
    },
    {
      "cell_type": "code",
      "source": [
        "!gzip -d uniprot_sprot.dat.gz"
      ],
      "metadata": {
        "id": "_7n4ZxdjWPxH"
      },
      "execution_count": null,
      "outputs": []
    },
    {
      "cell_type": "code",
      "source": [
        "!grep Q55EH8 uniprot_sprot.dat"
      ],
      "metadata": {
        "colab": {
          "base_uri": "https://localhost:8080/"
        },
        "id": "-nbARM7PWy3z",
        "outputId": "a711134c-5ab7-4516-cc9d-f09bff0cb208"
      },
      "execution_count": null,
      "outputs": [
        {
          "output_type": "stream",
          "name": "stdout",
          "text": [
            "AC   Q55EH8;\n",
            "DR   PaxDb; Q55EH8; -.\n",
            "DR   InParanoid; Q55EH8; -.\n",
            "DR   PhylomeDB; Q55EH8; -.\n",
            "DR   PRO; PR:Q55EH8; -.\n"
          ]
        }
      ]
    }
  ]
}
